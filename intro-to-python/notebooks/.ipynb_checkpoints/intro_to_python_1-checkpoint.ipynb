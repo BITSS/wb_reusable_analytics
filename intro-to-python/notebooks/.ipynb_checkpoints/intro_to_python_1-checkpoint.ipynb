{
 "cells": [
  {
   "cell_type": "markdown",
   "metadata": {},
   "source": [
    "# Introduction to Python\n",
    "-----\n",
    "In the talk, we covered alot of theoretical content about how to write Python programs. In this notebook, we will practice how to write Python code through a series of exercises."
   ]
  },
  {
   "cell_type": "markdown",
   "metadata": {},
   "source": [
    "## Instuction for Exercises\n",
    "- Please uncomment the line ```ADD YOUR CODE HERE``` and replace it with your code. \n",
    "- In some cases, you need to put your solution in a new cell(s). \n",
    "- Please the comments as some questions and/or instructions are provided there"
   ]
  },
  {
   "cell_type": "markdown",
   "metadata": {},
   "source": [
    "# EXERCISE-1: Printing Statements.\n",
    "Use the ```print()``` function to print out statements."
   ]
  },
  {
   "cell_type": "code",
   "execution_count": 10,
   "metadata": {},
   "outputs": [],
   "source": [
    "# Print \"Hello world\"\n",
    "# ADD YOUR CODE HERE"
   ]
  },
  {
   "cell_type": "markdown",
   "metadata": {},
   "source": [
    "# EXERCISE-2\n",
    "**Arithmetic Calculations.**\n",
    "\n",
    "In this exercise, we will perfom various simple calculations to see how they work in Python."
   ]
  },
  {
   "cell_type": "markdown",
   "metadata": {},
   "source": [
    "Suppose you have $100, which you can invest with a 10% return each year. After one year, it's 100×1.1=110 dollars, and after two years it's 100×1.1×1.1=121."
   ]
  },
  {
   "cell_type": "code",
   "execution_count": 11,
   "metadata": {},
   "outputs": [],
   "source": [
    "# Solve the problem above\n",
    "# ADD YOUR CODE HERE"
   ]
  },
  {
   "cell_type": "markdown",
   "metadata": {},
   "source": [
    "# EXERCISE-3\n",
    "**Calculations with Variables**\n",
    "\n",
    "Note that you can inspect the value of a variable by simply entering it in a code cell and executing it. Also, you can print out the variable."
   ]
  },
  {
   "cell_type": "code",
   "execution_count": 12,
   "metadata": {
    "code_folding": []
   },
   "outputs": [],
   "source": [
    "# Create a variable savings\n",
    "# YOUR CODE HERE\n",
    "\n",
    "# Create a variable growth_multiplier and give it any numeric value\n",
    "# YOUR CODE HERE\n",
    "\n",
    "# Create a variable number of years saved \n",
    "# YOUR CODE HERE\n",
    "\n",
    "# Calculate result-amount of money gained\n",
    "# YOUR CODE HERE\n",
    "\n",
    "# Print out result\n",
    "# YOUR CODE HERE"
   ]
  },
  {
   "cell_type": "markdown",
   "metadata": {},
   "source": [
    "# EXERCISE-4\n",
    "**Working with Strings**\n",
    "\n",
    "For this exercise, we will practice how to work with strings."
   ]
  },
  {
   "cell_type": "code",
   "execution_count": 13,
   "metadata": {},
   "outputs": [],
   "source": [
    "# Create a string variable and print out its length\n",
    "# ADD YOUR CODE HERE"
   ]
  },
  {
   "cell_type": "code",
   "execution_count": 14,
   "metadata": {},
   "outputs": [],
   "source": [
    "s = 'Monty Python'\n",
    "\n",
    "# use string indexing to extract the word 'Python' from the string\n",
    "# and print out that variable\n",
    "# ADD YOUR CODE HERE"
   ]
  },
  {
   "cell_type": "markdown",
   "metadata": {},
   "source": [
    "# EXERCISE-5\n",
    "**Control Flow**\n",
    "\n",
    "For this exercise, we will practice looping through sequence as well using conditional statements."
   ]
  },
  {
   "cell_type": "markdown",
   "metadata": {},
   "source": [
    "## EXERCISE-5-1\n",
    "**Create a loop that counts all even numbers to 100**"
   ]
  },
  {
   "cell_type": "code",
   "execution_count": 15,
   "metadata": {},
   "outputs": [],
   "source": [
    "# create a list of 100 nums\n",
    "nums = [i for i in range(101)]\n",
    "\n",
    "# Now Loop through the list above and print out only the even numbers\n",
    "# YOUR CODE HERE"
   ]
  },
  {
   "cell_type": "markdown",
   "metadata": {},
   "source": [
    "## EXERCISE-5-2\n",
    "**Create a loop that counts all even numbers to 100**\n",
    "\n",
    "Instead of using a list created a priori like above, use \n",
    "the range function in the loop."
   ]
  },
  {
   "cell_type": "markdown",
   "metadata": {},
   "source": [
    "# EXERCISE-6: Putting it All Togather\n",
    "Here, we will practice all aspects of Python programming by writing simple function."
   ]
  },
  {
   "cell_type": "markdown",
   "metadata": {},
   "source": [
    "## EXERCISE-6-1\n",
    "**Write a Python function that returns two random elements from a list. Make sure you check that the list has elements, print out warning if list has no elements.** \n",
    "\n",
    "**Hints:** \n",
    "- Use the ```random.choices()``` function\n",
    "- Use ```random.choices?``` (i.e., without the brackets) to get help about any function\n",
    "- The function should accept a list as an arguement\n",
    "\n",
    "**Sample Lists and expected outputs:** \n",
    "Check that your function is working with the following list.\n",
    "- empty list: ```your_function(empyt_list)```\n",
    "- expected output: A print out like this: *Please provide a list with at least one element*"
   ]
  },
  {
   "cell_type": "code",
   "execution_count": null,
   "metadata": {},
   "outputs": [],
   "source": []
  }
 ],
 "metadata": {
  "kernelspec": {
   "display_name": "Python 3",
   "language": "python",
   "name": "python3"
  },
  "language_info": {
   "codemirror_mode": {
    "name": "ipython",
    "version": 3
   },
   "file_extension": ".py",
   "mimetype": "text/x-python",
   "name": "python",
   "nbconvert_exporter": "python",
   "pygments_lexer": "ipython3",
   "version": "3.6.5"
  },
  "toc": {
   "base_numbering": 1,
   "nav_menu": {},
   "number_sections": false,
   "sideBar": true,
   "skip_h1_title": false,
   "title_cell": "Table of Contents",
   "title_sidebar": "Contents",
   "toc_cell": false,
   "toc_position": {
    "height": "calc(100% - 180px)",
    "left": "10px",
    "top": "150px",
    "width": "253px"
   },
   "toc_section_display": true,
   "toc_window_display": false
  }
 },
 "nbformat": 4,
 "nbformat_minor": 2
}
